{
 "cells": [
  {
   "cell_type": "markdown",
   "id": "cfd4fa2c-5049-4e70-8858-3fe383190d78",
   "metadata": {},
   "source": [
    "# auto feature engineering on NYC Taxi Fare"
   ]
  },
  {
   "cell_type": "code",
   "execution_count": 1,
   "id": "5a8ab7c1-6bd7-49ff-829c-ff8ea4c8dd5e",
   "metadata": {},
   "outputs": [
    {
     "name": "stderr",
     "output_type": "stream",
     "text": [
      "WARNING:root:'PYARROW_IGNORE_TIMEZONE' environment variable was not set. It is required to set this environment variable to '1' in both driver and executor sides if you use pyarrow>=2.0.0. pandas-on-Spark will set it for you but it does not work if there is a Spark context already launched.\n"
     ]
    },
    {
     "name": "stdout",
     "output_type": "stream",
     "text": [
      "2022-12-20 22:43:51,543 featuretools - WARNING    Featuretools failed to load \"nlp_primitives\" primitives from \"nlp_primitives\". For a full stack trace, set logging to debug.\n",
      "2022-12-20 22:43:51,552 featuretools - WARNING    Featuretools failed to load plugin nlp_primitives from library nlp_primitives. For a full stack trace, set logging to debug.\n"
     ]
    },
    {
     "data": {
      "application/vnd.jupyter.widget-view+json": {
       "model_id": "0c57809cbc97476485f663e328257e68",
       "version_major": 2,
       "version_minor": 0
      },
      "text/plain": [
       "Tab(children=(Output(layout=Layout(border='1px solid black')), Output(layout=Layout(border='1px solid black'))…"
      ]
     },
     "metadata": {},
     "output_type": "display_data"
    },
    {
     "name": "stderr",
     "output_type": "stream",
     "text": [
      "/home/vmagent/app/recdp/examples/notebooks/autofe/../../../pyrecdp/primitives/generators/statics.py:27: FutureWarning:\n",
      "\n",
      "Treating datetime data as categorical rather than numeric in `.describe` is deprecated and will be removed in a future version of pandas. Specify `datetime_is_numeric=True` to silence this warning and adopt the future behavior now.\n",
      "\n",
      "/home/vmagent/app/recdp/examples/notebooks/autofe/../../../pyrecdp/primitives/generators/statics.py:27: FutureWarning:\n",
      "\n",
      "Treating datetime data as categorical rather than numeric in `.describe` is deprecated and will be removed in a future version of pandas. Specify `datetime_is_numeric=True` to silence this warning and adopt the future behavior now.\n",
      "\n"
     ]
    }
   ],
   "source": [
    "import sys\n",
    "sys.path.append('../../../')\n",
    "\n",
    "import pandas as pd\n",
    "from utils import Timer\n",
    "\n",
    "train_data = pd.read_csv(\"nyc_taxi_fare_cleaned.csv\", nrows=10000)\n",
    "\n",
    "from pyrecdp.autofe import AutoFE\n",
    "fwg = AutoFE(dataset=train_data, label=\"fare_amount\")"
   ]
  },
  {
   "cell_type": "markdown",
   "id": "5cd9ca8d-c321-4d7a-aac1-f1f6fa2c6199",
   "metadata": {},
   "source": [
    "# auto feature engineering on twitter recsys"
   ]
  },
  {
   "cell_type": "code",
   "execution_count": 3,
   "id": "0e18912a-dc4c-434c-bf0f-97de88ac8299",
   "metadata": {},
   "outputs": [
    {
     "data": {
      "application/vnd.jupyter.widget-view+json": {
       "model_id": "70a745edb7aa49dab1d81707d4f34fbf",
       "version_major": 2,
       "version_minor": 0
      },
      "text/plain": [
       "Tab(children=(Output(layout=Layout(border='1px solid black')), Output(layout=Layout(border='1px solid black'))…"
      ]
     },
     "metadata": {},
     "output_type": "display_data"
    },
    {
     "name": "stderr",
     "output_type": "stream",
     "text": [
      "/home/vmagent/app/recdp/examples/notebooks/autofe/../../../pyrecdp/primitives/generators/statics.py:26: FutureWarning:\n",
      "\n",
      "Treating datetime data as categorical rather than numeric in `.describe` is deprecated and will be removed in a future version of pandas. Specify `datetime_is_numeric=True` to silence this warning and adopt the future behavior now.\n",
      "\n",
      "/home/vmagent/app/recdp/examples/notebooks/autofe/../../../pyrecdp/primitives/generators/statics.py:26: FutureWarning:\n",
      "\n",
      "Treating datetime data as categorical rather than numeric in `.describe` is deprecated and will be removed in a future version of pandas. Specify `datetime_is_numeric=True` to silence this warning and adopt the future behavior now.\n",
      "\n",
      "/home/vmagent/app/recdp/examples/notebooks/autofe/../../../pyrecdp/primitives/generators/statics.py:26: FutureWarning:\n",
      "\n",
      "Treating datetime data as categorical rather than numeric in `.describe` is deprecated and will be removed in a future version of pandas. Specify `datetime_is_numeric=True` to silence this warning and adopt the future behavior now.\n",
      "\n",
      "/home/vmagent/app/recdp/examples/notebooks/autofe/../../../pyrecdp/primitives/generators/fillna.py:47: SettingWithCopyWarning:\n",
      "\n",
      "\n",
      "A value is trying to be set on a copy of a slice from a DataFrame.\n",
      "Try using .loc[row_indexer,col_indexer] = value instead\n",
      "\n",
      "See the caveats in the documentation: https://pandas.pydata.org/pandas-docs/stable/user_guide/indexing.html#returning-a-view-versus-a-copy\n",
      "\n"
     ]
    },
    {
     "name": "stdout",
     "output_type": "stream",
     "text": [
      "Unexpected exception formatting exception. Falling back to standard exception\n"
     ]
    },
    {
     "name": "stderr",
     "output_type": "stream",
     "text": [
      "Traceback (most recent call last):\n",
      "  File \"/usr/local/lib/python3.8/dist-packages/IPython/core/interactiveshell.py\", line 3433, in run_code\n",
      "    exec(code_obj, self.user_global_ns, self.user_ns)\n",
      "  File \"/tmp/ipykernel_311655/3956099255.py\", line 10, in <module>\n",
      "    fwg = AutoFE(dataset=train_data, label=\"reply\")\n",
      "  File \"/home/vmagent/app/recdp/examples/notebooks/autofe/../../../pyrecdp/autofe/AutoFE.py\", line 57, in __init__\n",
      "    self.transformed_df_profile = FeatureProfiler(self.transformed_feature, self.data[self.label]).visualize_analyze()\n",
      "  File \"/home/vmagent/app/recdp/examples/notebooks/autofe/../../../pyrecdp/autofe/FeatureProfiler.py\", line 72, in visualize_analyze\n",
      "    return FeatureVisulizer(self.fit_analyze())\n",
      "  File \"/home/vmagent/app/recdp/examples/notebooks/autofe/../../../pyrecdp/autofe/FeatureProfiler.py\", line 64, in fit_analyze\n",
      "    feature_data = TypeInferFeatureGenerator().fit_transform(feature_data)\n",
      "  File \"/home/vmagent/app/recdp/examples/notebooks/autofe/../../../pyrecdp/primitives/generators/type.py\", line 53, in fit_transform\n",
      "    self.fit_prepare(None, df)\n",
      "  File \"/home/vmagent/app/recdp/examples/notebooks/autofe/../../../pyrecdp/primitives/generators/type.py\", line 33, in fit_prepare\n",
      "    ret_field = self._infer_type(df[feature_name])\n",
      "  File \"/home/vmagent/app/recdp/examples/notebooks/autofe/../../../pyrecdp/primitives/generators/type.py\", line 105, in _infer_type\n",
      "    s = try_category(s)\n",
      "  File \"/home/vmagent/app/recdp/examples/notebooks/autofe/../../../pyrecdp/primitives/generators/type.py\", line 65, in try_category\n",
      "    n_unique = s.nunique()\n",
      "  File \"/usr/local/lib/python3.8/dist-packages/pandas/core/base.py\", line 1039, in nunique\n",
      "    uniqs = self.unique()\n",
      "  File \"/usr/local/lib/python3.8/dist-packages/pandas/core/series.py\", line 2242, in unique\n",
      "    return super().unique()\n",
      "  File \"/usr/local/lib/python3.8/dist-packages/pandas/core/base.py\", line 1001, in unique\n",
      "    result = unique1d(values)\n",
      "  File \"/usr/local/lib/python3.8/dist-packages/pandas/core/algorithms.py\", line 409, in unique\n",
      "    return unique_with_mask(values)\n",
      "  File \"/usr/local/lib/python3.8/dist-packages/pandas/core/algorithms.py\", line 425, in unique_with_mask\n",
      "    uniques = table.unique(values)\n",
      "  File \"pandas/_libs/hashtable_class_helper.pxi\", line 5910, in pandas._libs.hashtable.PyObjectHashTable.unique\n",
      "  File \"pandas/_libs/hashtable_class_helper.pxi\", line 5857, in pandas._libs.hashtable.PyObjectHashTable._unique\n",
      "TypeError: unhashable type: 'list'\n",
      "\n",
      "During handling of the above exception, another exception occurred:\n",
      "\n",
      "Traceback (most recent call last):\n",
      "  File \"/usr/local/lib/python3.8/dist-packages/IPython/core/interactiveshell.py\", line 2052, in showtraceback\n",
      "    stb = self.InteractiveTB.structured_traceback(\n",
      "  File \"/usr/local/lib/python3.8/dist-packages/IPython/core/ultratb.py\", line 1112, in structured_traceback\n",
      "    return FormattedTB.structured_traceback(\n",
      "  File \"/usr/local/lib/python3.8/dist-packages/IPython/core/ultratb.py\", line 1006, in structured_traceback\n",
      "    return VerboseTB.structured_traceback(\n",
      "  File \"/usr/local/lib/python3.8/dist-packages/IPython/core/ultratb.py\", line 859, in structured_traceback\n",
      "    formatted_exception = self.format_exception_as_a_whole(etype, evalue, etb, number_of_lines_of_context,\n",
      "  File \"/usr/local/lib/python3.8/dist-packages/IPython/core/ultratb.py\", line 812, in format_exception_as_a_whole\n",
      "    frames.append(self.format_record(r))\n",
      "  File \"/usr/local/lib/python3.8/dist-packages/IPython/core/ultratb.py\", line 730, in format_record\n",
      "    result += ''.join(_format_traceback_lines(frame_info.lines, Colors, self.has_colors, lvals))\n",
      "  File \"/usr/local/lib/python3.8/dist-packages/stack_data/utils.py\", line 144, in cached_property_wrapper\n",
      "    value = obj.__dict__[self.func.__name__] = self.func(obj)\n",
      "  File \"/usr/local/lib/python3.8/dist-packages/stack_data/core.py\", line 720, in lines\n",
      "    pieces = self.included_pieces\n",
      "  File \"/usr/local/lib/python3.8/dist-packages/stack_data/utils.py\", line 144, in cached_property_wrapper\n",
      "    value = obj.__dict__[self.func.__name__] = self.func(obj)\n",
      "  File \"/usr/local/lib/python3.8/dist-packages/stack_data/core.py\", line 663, in included_pieces\n",
      "    scope_pieces = self.scope_pieces\n",
      "  File \"/usr/local/lib/python3.8/dist-packages/stack_data/utils.py\", line 144, in cached_property_wrapper\n",
      "    value = obj.__dict__[self.func.__name__] = self.func(obj)\n",
      "  File \"/usr/local/lib/python3.8/dist-packages/stack_data/core.py\", line 600, in scope_pieces\n",
      "    scope_start, scope_end = self.source.line_range(self.scope)\n",
      "  File \"/usr/local/lib/python3.8/dist-packages/stack_data/core.py\", line 164, in line_range\n",
      "    return line_range(self.asttext(), node)\n",
      "AttributeError: 'Source' object has no attribute 'asttext'\n"
     ]
    }
   ],
   "source": [
    "import sys\n",
    "sys.path.append('../../../')\n",
    "\n",
    "import pandas as pd\n",
    "from utils import Timer\n",
    "\n",
    "train_data = pd.read_csv(\"twitter_recsys_cleaned.csv\", nrows=10000)\n",
    "\n",
    "from pyrecdp.autofe import AutoFE\n",
    "fwg = AutoFE(dataset=train_data, label=\"reply\")"
   ]
  },
  {
   "cell_type": "code",
   "execution_count": null,
   "id": "b410ad8f-046d-4088-8a2c-fe91b8e8b22c",
   "metadata": {},
   "outputs": [],
   "source": [
    "from pyrecdp.widgets import BaseWidget, TabWidget\n",
    "\n",
    "new_view = BaseWidget(display_flag=False)\n",
    "fwg.main_view.append('new_view', new_view)\n"
   ]
  },
  {
   "cell_type": "code",
   "execution_count": null,
   "id": "b5a381bd-7f21-49c2-adfd-71f30579da37",
   "metadata": {},
   "outputs": [],
   "source": [
    "print(fwg.get_transform_pipeline())"
   ]
  },
  {
   "cell_type": "code",
   "execution_count": null,
   "id": "8dcc1eec-885b-4cd2-b163-c13fe7b4f3ee",
   "metadata": {},
   "outputs": [],
   "source": [
    "fwg.get_feature_list()"
   ]
  },
  {
   "cell_type": "markdown",
   "id": "3ec98f72-5476-41bc-9509-cc9b29711cbf",
   "metadata": {},
   "source": [
    "# Backup"
   ]
  },
  {
   "cell_type": "code",
   "execution_count": null,
   "id": "9500afc4-1719-430d-8aa0-9f0cc9942edc",
   "metadata": {},
   "outputs": [],
   "source": [
    "import pandas as pd\n",
    "from utils import Timer\n",
    "import os\n",
    "\n",
    "def clean_df(df, label = 'reply'):\n",
    "    df['tweet_timestamp'] = pd.to_datetime(df['tweet_timestamp'],unit='s')\n",
    "    df['engaging_user_account_creation'] = pd.to_datetime(df['engaging_user_account_creation'],unit='s')\n",
    "    df['engaged_with_user_account_creation'] = pd.to_datetime(df['engaged_with_user_account_creation'],unit='s')\n",
    "    \n",
    "    df['reply'] = df['reply_timestamp'].apply(lambda x: 1 if x>0 else 0).astype('int32')\n",
    "    df['retweet'] = df['retweet_timestamp'].apply(lambda x: 1 if x>0 else 0).astype('int32')\n",
    "    df['comment'] = df['retweet_with_comment_timestamp'].apply(lambda x: 1 if x>0 else 0).astype('int32')\n",
    "    df['like'] = df['like_timestamp'].apply(lambda x: 1 if x>0 else 0).astype('int32')\n",
    "    df = df.drop(columns=['reply_timestamp', 'retweet_timestamp', 'retweet_with_comment_timestamp','like_timestamp'])\n",
    "    if 'tokens' in df.columns:\n",
    "        df = df.drop(columns=['tokens'])\n",
    "    return df\n",
    "\n",
    "def apply_bert_decode(df):\n",
    "    from transformers import BertTokenizer\n",
    "    os.environ[\"PROTOCOL_BUFFERS_PYTHON_IMPLEMENTATION\"] = \"python\"\n",
    "    tokenizer = BertTokenizer.from_pretrained('bert-base-multilingual-cased', do_lower_case=False)\n",
    "    df[\"tweet\"] = df[\"text_tokens\"].progress_apply(lambda x: tokenizer.decode([int(n) for n in x.split('\\t')]))\n",
    "    df = df.drop(columns=['text_tokens'])\n",
    "    return df\n",
    "\n",
    "with Timer(f\"read data\"):\n",
    "    schema = [\"text_tokens\", \"hashtags\", \"tweet_id\", \"present_media\", \"present_links\", \"present_domains\", \"tweet_type\",\n",
    "        \"language\", \"tweet_timestamp\", \"engaged_with_user_id\", \"engaged_with_user_follower_count\", \"engaged_with_user_following_count\",\n",
    "        \"engaged_with_user_is_verified\", \"engaged_with_user_account_creation\", \"engaging_user_id\", \"engaging_user_follower_count\",\n",
    "        \"enaging_user_following_count\", \"enaging_user_is_verified\", \"engaging_user_account_creation\", \"engagee_follows_engager\",\n",
    "        \"reply_timestamp\", \"retweet_timestamp\", \"retweet_with_comment_timestamp\", \"like_timestamp\"]\n",
    "    train_data = pd.read_csv(\"twitter_recsys.csv\", sep='\\x01', names = schema, header=None,)\n",
    "with Timer(f\"clean data\"):\n",
    "    train_data = clean_df(train_data)\n",
    "with Timer(\"write_data\"):\n",
    "    train_data.to_csv(\"twitter_recsys_cleaned.csv\", index = False)"
   ]
  },
  {
   "cell_type": "code",
   "execution_count": null,
   "id": "ef2ab544-7115-4ffb-af8f-5cb8fb97e032",
   "metadata": {},
   "outputs": [],
   "source": []
  },
  {
   "cell_type": "code",
   "execution_count": null,
   "id": "80bff243-0169-4914-94ac-11943491e856",
   "metadata": {},
   "outputs": [],
   "source": []
  }
 ],
 "metadata": {
  "kernelspec": {
   "display_name": "Python 3 (ipykernel)",
   "language": "python",
   "name": "python3"
  },
  "language_info": {
   "codemirror_mode": {
    "name": "ipython",
    "version": 3
   },
   "file_extension": ".py",
   "mimetype": "text/x-python",
   "name": "python",
   "nbconvert_exporter": "python",
   "pygments_lexer": "ipython3",
   "version": "3.8.10"
  }
 },
 "nbformat": 4,
 "nbformat_minor": 5
}
