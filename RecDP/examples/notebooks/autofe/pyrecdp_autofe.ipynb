{
 "cells": [
  {
   "cell_type": "markdown",
   "id": "cfd4fa2c-5049-4e70-8858-3fe383190d78",
   "metadata": {},
   "source": [
    "# auto feature engineering on NYC Taxi Fare"
   ]
  },
  {
   "cell_type": "code",
   "execution_count": 1,
   "id": "5a8ab7c1-6bd7-49ff-829c-ff8ea4c8dd5e",
   "metadata": {},
   "outputs": [
    {
     "data": {
      "application/vnd.jupyter.widget-view+json": {
       "model_id": "0697a8de5101473fb618cbbf2e10da8e",
       "version_major": 2,
       "version_minor": 0
      },
      "text/plain": [
       "Tab(children=(Output(layout=Layout(border='1px solid black')), Output(layout=Layout(border='1px solid black'))…"
      ]
     },
     "metadata": {},
     "output_type": "display_data"
    }
   ],
   "source": [
    "import sys\n",
    "sys.path.append('../../../')\n",
    "\n",
    "import pandas as pd\n",
    "from utils import Timer\n",
    "\n",
    "train_data = pd.read_csv(\"nyc_taxi_fare_cleaned.csv\", nrows=1000)\n",
    "\n",
    "from pyrecdp.autofe import FeatureWrangleGenerator\n",
    "fwg = FeatureWrangleGenerator(dataset=train_data, label=\"fare_amount\")"
   ]
  },
  {
   "cell_type": "markdown",
   "id": "5cd9ca8d-c321-4d7a-aac1-f1f6fa2c6199",
   "metadata": {},
   "source": [
    "# auto feature engineering on twitter recsys"
   ]
  },
  {
   "cell_type": "code",
   "execution_count": 2,
   "id": "0e18912a-dc4c-434c-bf0f-97de88ac8299",
   "metadata": {},
   "outputs": [
    {
     "data": {
      "application/vnd.jupyter.widget-view+json": {
       "model_id": "bfed193ad77640c7836413dce854e6e7",
       "version_major": 2,
       "version_minor": 0
      },
      "text/plain": [
       "Tab(children=(Output(layout=Layout(border='1px solid black')), Output(layout=Layout(border='1px solid black'))…"
      ]
     },
     "metadata": {},
     "output_type": "display_data"
    }
   ],
   "source": [
    "import sys\n",
    "sys.path.append('../../../')\n",
    "\n",
    "import pandas as pd\n",
    "from utils import Timer\n",
    "\n",
    "train_data = pd.read_csv(\"twitter_recsys_cleaned.csv\", nrows=1000)\n",
    "\n",
    "from pyrecdp.autofe import FeatureWrangleGenerator\n",
    "fwg = FeatureWrangleGenerator(dataset=train_data, label=\"reply\")"
   ]
  },
  {
   "cell_type": "code",
   "execution_count": 1,
   "id": "b410ad8f-046d-4088-8a2c-fe91b8e8b22c",
   "metadata": {},
   "outputs": [
    {
     "ename": "ModuleNotFoundError",
     "evalue": "No module named 'pyrecdp'",
     "output_type": "error",
     "traceback": [
      "\u001b[0;31m---------------------------------------------------------------------------\u001b[0m",
      "\u001b[0;31mModuleNotFoundError\u001b[0m                       Traceback (most recent call last)",
      "Cell \u001b[0;32mIn [1], line 1\u001b[0m\n\u001b[0;32m----> 1\u001b[0m \u001b[38;5;28;01mfrom\u001b[39;00m \u001b[38;5;21;01mpyrecdp\u001b[39;00m\u001b[38;5;21;01m.\u001b[39;00m\u001b[38;5;21;01mwidgets\u001b[39;00m \u001b[38;5;28;01mimport\u001b[39;00m BaseWidget, TabWidget\n\u001b[1;32m      3\u001b[0m new_view \u001b[38;5;241m=\u001b[39m BaseWidget(display_flag\u001b[38;5;241m=\u001b[39m\u001b[38;5;28;01mFalse\u001b[39;00m)\n\u001b[1;32m      4\u001b[0m fwg\u001b[38;5;241m.\u001b[39mmain_view\u001b[38;5;241m.\u001b[39mappend(\u001b[38;5;124m'\u001b[39m\u001b[38;5;124mnew_view\u001b[39m\u001b[38;5;124m'\u001b[39m, new_view)\n",
      "\u001b[0;31mModuleNotFoundError\u001b[0m: No module named 'pyrecdp'"
     ]
    }
   ],
   "source": [
    "from pyrecdp.widgets import BaseWidget, TabWidget\n",
    "\n",
    "new_view = BaseWidget(display_flag=False)\n",
    "fwg.main_view.append('new_view', new_view)\n"
   ]
  },
  {
   "cell_type": "code",
   "execution_count": 5,
   "id": "b5a381bd-7f21-49c2-adfd-71f30579da37",
   "metadata": {},
   "outputs": [
    {
     "name": "stdout",
     "output_type": "stream",
     "text": [
      "Stage 0: [<class 'pyrecdp.primitives.generators.astype.AsTypeFeatureGenerator'>]\n",
      "Stage 1: [<class 'pyrecdp.primitives.generators.fillna.FillNaFeatureGenerator'>]\n",
      "Stage 2: [<class 'pyrecdp.primitives.generators.identity.IdentityFeatureGenerator'>, <class 'pyrecdp.primitives.generators.category.CategoryFeatureGenerator'>, <class 'pyrecdp.primitives.generators.datetime.DatetimeFeatureGenerator'>]\n",
      "Stage 3: [<class 'pyrecdp.primitives.generators.drop_unique.DropUniqueFeatureGenerator'>]\n"
     ]
    }
   ],
   "source": [
    "print(fwg.get_transform_pipeline())"
   ]
  },
  {
   "cell_type": "code",
   "execution_count": 5,
   "id": "8dcc1eec-885b-4cd2-b163-c13fe7b4f3ee",
   "metadata": {},
   "outputs": [
    {
     "data": {
      "text/plain": [
       "engaged_with_user_follower_count      int64\n",
       "engaged_with_user_following_count     int64\n",
       "engaged_with_user_is_verified          int8\n",
       "engaging_user_follower_count          int64\n",
       "enaging_user_following_count          int64\n",
       "                                      ...  \n",
       "__nlp__.28224                        uint16\n",
       "__nlp__.4348                         uint16\n",
       "__nlp__.56898                        uint16\n",
       "__nlp__.56898 137                    uint16\n",
       "__nlp__._total_                      uint16\n",
       "Length: 212, dtype: object"
      ]
     },
     "execution_count": 5,
     "metadata": {},
     "output_type": "execute_result"
    }
   ],
   "source": [
    "fwg.get_feature_list()"
   ]
  },
  {
   "cell_type": "markdown",
   "id": "3ec98f72-5476-41bc-9509-cc9b29711cbf",
   "metadata": {},
   "source": [
    "# Backup"
   ]
  },
  {
   "cell_type": "code",
   "execution_count": 1,
   "id": "9500afc4-1719-430d-8aa0-9f0cc9942edc",
   "metadata": {},
   "outputs": [
    {
     "name": "stdout",
     "output_type": "stream",
     "text": [
      "read data took 82.04026912152767 sec\n",
      "clean data took 7.953582388348877 sec\n",
      "write_data took 219.43907960969955 sec\n"
     ]
    }
   ],
   "source": [
    "import pandas as pd\n",
    "from utils import Timer\n",
    "import os\n",
    "\n",
    "def clean_df(df, label = 'reply'):\n",
    "    df['tweet_timestamp'] = pd.to_datetime(df['tweet_timestamp'],unit='s')\n",
    "    df['engaging_user_account_creation'] = pd.to_datetime(df['engaging_user_account_creation'],unit='s')\n",
    "    df['engaged_with_user_account_creation'] = pd.to_datetime(df['engaged_with_user_account_creation'],unit='s')\n",
    "    \n",
    "    df['reply'] = df['reply_timestamp'].apply(lambda x: 1 if x>0 else 0).astype('int32')\n",
    "    df['retweet'] = df['retweet_timestamp'].apply(lambda x: 1 if x>0 else 0).astype('int32')\n",
    "    df['comment'] = df['retweet_with_comment_timestamp'].apply(lambda x: 1 if x>0 else 0).astype('int32')\n",
    "    df['like'] = df['like_timestamp'].apply(lambda x: 1 if x>0 else 0).astype('int32')\n",
    "    df = df.drop(columns=['reply_timestamp', 'retweet_timestamp', 'retweet_with_comment_timestamp','like_timestamp'])\n",
    "    if 'tokens' in df.columns:\n",
    "        df = df.drop(columns=['tokens'])\n",
    "    return df\n",
    "\n",
    "def apply_bert_decode(df):\n",
    "    from transformers import BertTokenizer\n",
    "    os.environ[\"PROTOCOL_BUFFERS_PYTHON_IMPLEMENTATION\"] = \"python\"\n",
    "    tokenizer = BertTokenizer.from_pretrained('bert-base-multilingual-cased', do_lower_case=False)\n",
    "    df[\"tweet\"] = df[\"text_tokens\"].progress_apply(lambda x: tokenizer.decode([int(n) for n in x.split('\\t')]))\n",
    "    df = df.drop(columns=['text_tokens'])\n",
    "    return df\n",
    "\n",
    "with Timer(f\"read data\"):\n",
    "    schema = [\"text_tokens\", \"hashtags\", \"tweet_id\", \"present_media\", \"present_links\", \"present_domains\", \"tweet_type\",\n",
    "        \"language\", \"tweet_timestamp\", \"engaged_with_user_id\", \"engaged_with_user_follower_count\", \"engaged_with_user_following_count\",\n",
    "        \"engaged_with_user_is_verified\", \"engaged_with_user_account_creation\", \"engaging_user_id\", \"engaging_user_follower_count\",\n",
    "        \"enaging_user_following_count\", \"enaging_user_is_verified\", \"engaging_user_account_creation\", \"engagee_follows_engager\",\n",
    "        \"reply_timestamp\", \"retweet_timestamp\", \"retweet_with_comment_timestamp\", \"like_timestamp\"]\n",
    "    train_data = pd.read_csv(\"twitter_recsys.csv\", sep='\\x01', names = schema, header=None,)\n",
    "with Timer(f\"clean data\"):\n",
    "    train_data = clean_df(train_data)\n",
    "with Timer(\"write_data\"):\n",
    "    train_data.to_csv(\"twitter_recsys_cleaned.csv\", index = False)"
   ]
  },
  {
   "cell_type": "code",
   "execution_count": null,
   "id": "ef2ab544-7115-4ffb-af8f-5cb8fb97e032",
   "metadata": {},
   "outputs": [],
   "source": []
  }
 ],
 "metadata": {
  "kernelspec": {
   "display_name": "Python 3 (ipykernel)",
   "language": "python",
   "name": "python3"
  },
  "language_info": {
   "codemirror_mode": {
    "name": "ipython",
    "version": 3
   },
   "file_extension": ".py",
   "mimetype": "text/x-python",
   "name": "python",
   "nbconvert_exporter": "python",
   "pygments_lexer": "ipython3",
   "version": "3.8.10"
  }
 },
 "nbformat": 4,
 "nbformat_minor": 5
}
