{
 "cells": [
  {
   "cell_type": "code",
   "execution_count": 1,
   "metadata": {},
   "outputs": [],
   "source": [
    "import h2o"
   ]
  },
  {
   "cell_type": "code",
   "execution_count": 2,
   "metadata": {},
   "outputs": [
    {
     "name": "stderr",
     "output_type": "stream",
     "text": [
      "/home/sparkuser/anaconda3/lib/python3.7/site-packages/h2o/backend/connection.py:369: UserWarning: Proxy is defined in the environment: http_proxy. This may interfere with your H2O Connection.\n",
      "  \"This may interfere with your H2O Connection.\" % name)\n"
     ]
    },
    {
     "name": "stdout",
     "output_type": "stream",
     "text": [
      "Checking whether there is an H2O instance running at http://localhost:54321 ..... not found.\n",
      "Attempting to start a local H2O server...\n",
      "  Java Version: java version \"1.8.0_112\"; Java(TM) SE Runtime Environment (build 1.8.0_112-b15); Java HotSpot(TM) 64-Bit Server VM (build 25.112-b15, mixed mode)\n",
      "  Starting server from /home/sparkuser/anaconda3/lib/python3.7/site-packages/h2o/backend/bin/h2o.jar\n",
      "  Ice root: /tmp/tmptq8hi1u4\n",
      "  JVM stdout: /tmp/tmptq8hi1u4/h2o_sparkuser_started_from_python.out\n",
      "  JVM stderr: /tmp/tmptq8hi1u4/h2o_sparkuser_started_from_python.err\n",
      "  Server is running at http://127.0.0.1:54325\n",
      "Connecting to H2O server at http://127.0.0.1:54325 ... successful.\n"
     ]
    },
    {
     "data": {
      "text/html": [
       "<div style=\"overflow:auto\"><table style=\"width:50%\"><tr><td>H2O cluster uptime:</td>\n",
       "<td>01 secs</td></tr>\n",
       "<tr><td>H2O cluster timezone:</td>\n",
       "<td>+08:00</td></tr>\n",
       "<tr><td>H2O data parsing timezone:</td>\n",
       "<td>UTC</td></tr>\n",
       "<tr><td>H2O cluster version:</td>\n",
       "<td>3.28.0.3</td></tr>\n",
       "<tr><td>H2O cluster version age:</td>\n",
       "<td>1 month and 4 days </td></tr>\n",
       "<tr><td>H2O cluster name:</td>\n",
       "<td>H2O_from_python_sparkuser_6ekqzq</td></tr>\n",
       "<tr><td>H2O cluster total nodes:</td>\n",
       "<td>1</td></tr>\n",
       "<tr><td>H2O cluster free memory:</td>\n",
       "<td>26.67 Gb</td></tr>\n",
       "<tr><td>H2O cluster total cores:</td>\n",
       "<td>88</td></tr>\n",
       "<tr><td>H2O cluster allowed cores:</td>\n",
       "<td>88</td></tr>\n",
       "<tr><td>H2O cluster status:</td>\n",
       "<td>accepting new members, healthy</td></tr>\n",
       "<tr><td>H2O connection url:</td>\n",
       "<td>http://127.0.0.1:54325</td></tr>\n",
       "<tr><td>H2O connection proxy:</td>\n",
       "<td>{'http': None, 'https': None}</td></tr>\n",
       "<tr><td>H2O internal security:</td>\n",
       "<td>False</td></tr>\n",
       "<tr><td>H2O API Extensions:</td>\n",
       "<td>Amazon S3, XGBoost, Algos, AutoML, Core V3, TargetEncoder, Core V4</td></tr>\n",
       "<tr><td>Python version:</td>\n",
       "<td>3.7.5 final</td></tr></table></div>"
      ],
      "text/plain": [
       "--------------------------  ------------------------------------------------------------------\n",
       "H2O cluster uptime:         01 secs\n",
       "H2O cluster timezone:       +08:00\n",
       "H2O data parsing timezone:  UTC\n",
       "H2O cluster version:        3.28.0.3\n",
       "H2O cluster version age:    1 month and 4 days\n",
       "H2O cluster name:           H2O_from_python_sparkuser_6ekqzq\n",
       "H2O cluster total nodes:    1\n",
       "H2O cluster free memory:    26.67 Gb\n",
       "H2O cluster total cores:    88\n",
       "H2O cluster allowed cores:  88\n",
       "H2O cluster status:         accepting new members, healthy\n",
       "H2O connection url:         http://127.0.0.1:54325\n",
       "H2O connection proxy:       {'http': None, 'https': None}\n",
       "H2O internal security:      False\n",
       "H2O API Extensions:         Amazon S3, XGBoost, Algos, AutoML, Core V3, TargetEncoder, Core V4\n",
       "Python version:             3.7.5 final\n",
       "--------------------------  ------------------------------------------------------------------"
      ]
     },
     "metadata": {},
     "output_type": "display_data"
    }
   ],
   "source": [
    "h2o.init()"
   ]
  },
  {
   "cell_type": "code",
   "execution_count": 3,
   "metadata": {
    "scrolled": true
   },
   "outputs": [
    {
     "data": {
      "text/html": [
       "<div>\n",
       "<style scoped>\n",
       "    .dataframe tbody tr th:only-of-type {\n",
       "        vertical-align: middle;\n",
       "    }\n",
       "\n",
       "    .dataframe tbody tr th {\n",
       "        vertical-align: top;\n",
       "    }\n",
       "\n",
       "    .dataframe thead th {\n",
       "        text-align: right;\n",
       "    }\n",
       "</style>\n",
       "<table border=\"1\" class=\"dataframe\">\n",
       "  <thead>\n",
       "    <tr style=\"text-align: right;\">\n",
       "      <th></th>\n",
       "      <th>key</th>\n",
       "    </tr>\n",
       "  </thead>\n",
       "  <tbody>\n",
       "  </tbody>\n",
       "</table>\n",
       "</div>"
      ],
      "text/plain": [
       "Empty DataFrame\n",
       "Columns: [key]\n",
       "Index: []"
      ]
     },
     "execution_count": 3,
     "metadata": {},
     "output_type": "execute_result"
    }
   ],
   "source": [
    "h2o.ls()"
   ]
  },
  {
   "cell_type": "code",
   "execution_count": 4,
   "metadata": {},
   "outputs": [
    {
     "name": "stdout",
     "output_type": "stream",
     "text": [
      "Parse progress: |█████████████████████████████████████████████████████████| 100%\n"
     ]
    }
   ],
   "source": [
    "data=h2o.import_file(path=\"/home/sparkuser/jupyter/Bin/NYC_Taxi_Fare/input/train.csv\")"
   ]
  },
  {
   "cell_type": "code",
   "execution_count": 5,
   "metadata": {},
   "outputs": [
    {
     "data": {
      "text/html": [
       "<table>\n",
       "<thead>\n",
       "<tr><th>       </th><th>key                </th><th>fare_amount       </th><th>pickup_datetime        </th><th>pickup_longitude  </th><th>pickup_latitude  </th><th>dropoff_longitude  </th><th>dropoff_latitude  </th><th>passenger_count   </th></tr>\n",
       "</thead>\n",
       "<tbody>\n",
       "<tr><td>type   </td><td>time               </td><td>real              </td><td>string                 </td><td>real              </td><td>real             </td><td>real               </td><td>real              </td><td>int               </td></tr>\n",
       "<tr><td>mins   </td><td>1230768027000.0    </td><td>-300.0            </td><td>NaN                    </td><td>-3442.059565      </td><td>-3492.263768     </td><td>-3442.024565       </td><td>-3547.886698      </td><td>0.0               </td></tr>\n",
       "<tr><td>mean   </td><td>1332289129821.6658 </td><td>11.345045601662934</td><td>NaN                    </td><td>-72.50968444358807</td><td>39.91979178688842</td><td>-72.51120972971924 </td><td>39.92068144482932 </td><td>1.68537992015568  </td></tr>\n",
       "<tr><td>maxs   </td><td>1435708794000.0    </td><td>93963.36          </td><td>NaN                    </td><td>3457.625683       </td><td>3408.789565      </td><td>3457.62235         </td><td>3537.132528       </td><td>208.0             </td></tr>\n",
       "<tr><td>sigma  </td><td>58317921008.69086  </td><td>20.710832198232204</td><td>NaN                    </td><td>12.848883381402695</td><td>9.642353041994909</td><td>12.78219651783083  </td><td>9.633345796415139 </td><td>1.3276643570959692</td></tr>\n",
       "<tr><td>zeros  </td><td>0                  </td><td>1380              </td><td>0                      </td><td>1055693           </td><td>1052158          </td><td>1052745            </td><td>1049666           </td><td>195416            </td></tr>\n",
       "<tr><td>missing</td><td>0                  </td><td>0                 </td><td>0                      </td><td>0                 </td><td>0                </td><td>376                </td><td>376               </td><td>0                 </td></tr>\n",
       "<tr><td>0      </td><td>2009-06-15 17:26:21</td><td>4.5               </td><td>2009-06-15 17:26:21 UTC</td><td>-73.844311        </td><td>40.721319        </td><td>-73.84161          </td><td>40.712278         </td><td>1.0               </td></tr>\n",
       "<tr><td>1      </td><td>2010-01-05 16:52:16</td><td>16.9              </td><td>2010-01-05 16:52:16 UTC</td><td>-74.016048        </td><td>40.711303        </td><td>-73.979268         </td><td>40.782004         </td><td>1.0               </td></tr>\n",
       "<tr><td>2      </td><td>2011-08-18 00:35:00</td><td>5.7               </td><td>2011-08-18 00:35:00 UTC</td><td>-73.982738        </td><td>40.76127         </td><td>-73.991242         </td><td>40.750562         </td><td>2.0               </td></tr>\n",
       "<tr><td>3      </td><td>2012-04-21 04:30:42</td><td>7.7               </td><td>2012-04-21 04:30:42 UTC</td><td>-73.98713         </td><td>40.733143        </td><td>-73.991567         </td><td>40.758092         </td><td>1.0               </td></tr>\n",
       "<tr><td>4      </td><td>2010-03-09 07:51:00</td><td>5.3               </td><td>2010-03-09 07:51:00 UTC</td><td>-73.968095        </td><td>40.768008        </td><td>-73.956655         </td><td>40.783762         </td><td>1.0               </td></tr>\n",
       "<tr><td>5      </td><td>2011-01-06 09:50:45</td><td>12.1              </td><td>2011-01-06 09:50:45 UTC</td><td>-74.000964        </td><td>40.73163         </td><td>-73.972892         </td><td>40.758233         </td><td>1.0               </td></tr>\n",
       "<tr><td>6      </td><td>2012-11-20 20:35:00</td><td>7.5               </td><td>2012-11-20 20:35:00 UTC</td><td>-73.980002        </td><td>40.751662        </td><td>-73.973802         </td><td>40.764842         </td><td>1.0               </td></tr>\n",
       "<tr><td>7      </td><td>2012-01-04 17:22:00</td><td>16.5              </td><td>2012-01-04 17:22:00 UTC</td><td>-73.9513          </td><td>40.774138        </td><td>-73.990095         </td><td>40.751048         </td><td>1.0               </td></tr>\n",
       "<tr><td>8      </td><td>2012-12-03 13:10:00</td><td>9.0               </td><td>2012-12-03 13:10:00 UTC</td><td>-74.006462        </td><td>40.726713        </td><td>-73.993078         </td><td>40.731628         </td><td>1.0               </td></tr>\n",
       "<tr><td>9      </td><td>2009-09-02 01:11:00</td><td>8.9               </td><td>2009-09-02 01:11:00 UTC</td><td>-73.980658        </td><td>40.733873        </td><td>-73.99154          </td><td>40.758138         </td><td>2.0               </td></tr>\n",
       "</tbody>\n",
       "</table>"
      ]
     },
     "metadata": {},
     "output_type": "display_data"
    }
   ],
   "source": [
    "data.summary()"
   ]
  },
  {
   "cell_type": "code",
   "execution_count": 6,
   "metadata": {
    "scrolled": true
   },
   "outputs": [
    {
     "data": {
      "text/html": [
       "<table>\n",
       "<thead>\n",
       "<tr><th>key                </th><th style=\"text-align: right;\">  fare_amount</th><th>pickup_datetime        </th><th style=\"text-align: right;\">  pickup_longitude</th><th style=\"text-align: right;\">  pickup_latitude</th><th style=\"text-align: right;\">  dropoff_longitude</th><th style=\"text-align: right;\">  dropoff_latitude</th><th style=\"text-align: right;\">  passenger_count</th></tr>\n",
       "</thead>\n",
       "<tbody>\n",
       "<tr><td>2009-06-15 17:26:21</td><td style=\"text-align: right;\">          4.5</td><td>2009-06-15 17:26:21 UTC</td><td style=\"text-align: right;\">          -73.8443</td><td style=\"text-align: right;\">          40.7213</td><td style=\"text-align: right;\">           -73.8416</td><td style=\"text-align: right;\">           40.7123</td><td style=\"text-align: right;\">                1</td></tr>\n",
       "<tr><td>2010-01-05 16:52:16</td><td style=\"text-align: right;\">         16.9</td><td>2010-01-05 16:52:16 UTC</td><td style=\"text-align: right;\">          -74.016 </td><td style=\"text-align: right;\">          40.7113</td><td style=\"text-align: right;\">           -73.9793</td><td style=\"text-align: right;\">           40.782 </td><td style=\"text-align: right;\">                1</td></tr>\n",
       "<tr><td>2011-08-18 00:35:00</td><td style=\"text-align: right;\">          5.7</td><td>2011-08-18 00:35:00 UTC</td><td style=\"text-align: right;\">          -73.9827</td><td style=\"text-align: right;\">          40.7613</td><td style=\"text-align: right;\">           -73.9912</td><td style=\"text-align: right;\">           40.7506</td><td style=\"text-align: right;\">                2</td></tr>\n",
       "<tr><td>2012-04-21 04:30:42</td><td style=\"text-align: right;\">          7.7</td><td>2012-04-21 04:30:42 UTC</td><td style=\"text-align: right;\">          -73.9871</td><td style=\"text-align: right;\">          40.7331</td><td style=\"text-align: right;\">           -73.9916</td><td style=\"text-align: right;\">           40.7581</td><td style=\"text-align: right;\">                1</td></tr>\n",
       "<tr><td>2010-03-09 07:51:00</td><td style=\"text-align: right;\">          5.3</td><td>2010-03-09 07:51:00 UTC</td><td style=\"text-align: right;\">          -73.9681</td><td style=\"text-align: right;\">          40.768 </td><td style=\"text-align: right;\">           -73.9567</td><td style=\"text-align: right;\">           40.7838</td><td style=\"text-align: right;\">                1</td></tr>\n",
       "<tr><td>2011-01-06 09:50:45</td><td style=\"text-align: right;\">         12.1</td><td>2011-01-06 09:50:45 UTC</td><td style=\"text-align: right;\">          -74.001 </td><td style=\"text-align: right;\">          40.7316</td><td style=\"text-align: right;\">           -73.9729</td><td style=\"text-align: right;\">           40.7582</td><td style=\"text-align: right;\">                1</td></tr>\n",
       "<tr><td>2012-11-20 20:35:00</td><td style=\"text-align: right;\">          7.5</td><td>2012-11-20 20:35:00 UTC</td><td style=\"text-align: right;\">          -73.98  </td><td style=\"text-align: right;\">          40.7517</td><td style=\"text-align: right;\">           -73.9738</td><td style=\"text-align: right;\">           40.7648</td><td style=\"text-align: right;\">                1</td></tr>\n",
       "<tr><td>2012-01-04 17:22:00</td><td style=\"text-align: right;\">         16.5</td><td>2012-01-04 17:22:00 UTC</td><td style=\"text-align: right;\">          -73.9513</td><td style=\"text-align: right;\">          40.7741</td><td style=\"text-align: right;\">           -73.9901</td><td style=\"text-align: right;\">           40.751 </td><td style=\"text-align: right;\">                1</td></tr>\n",
       "<tr><td>2012-12-03 13:10:00</td><td style=\"text-align: right;\">          9  </td><td>2012-12-03 13:10:00 UTC</td><td style=\"text-align: right;\">          -74.0065</td><td style=\"text-align: right;\">          40.7267</td><td style=\"text-align: right;\">           -73.9931</td><td style=\"text-align: right;\">           40.7316</td><td style=\"text-align: right;\">                1</td></tr>\n",
       "<tr><td>2009-09-02 01:11:00</td><td style=\"text-align: right;\">          8.9</td><td>2009-09-02 01:11:00 UTC</td><td style=\"text-align: right;\">          -73.9807</td><td style=\"text-align: right;\">          40.7339</td><td style=\"text-align: right;\">           -73.9915</td><td style=\"text-align: right;\">           40.7581</td><td style=\"text-align: right;\">                2</td></tr>\n",
       "</tbody>\n",
       "</table>"
      ]
     },
     "metadata": {},
     "output_type": "display_data"
    },
    {
     "data": {
      "text/plain": []
     },
     "execution_count": 6,
     "metadata": {},
     "output_type": "execute_result"
    }
   ],
   "source": [
    "data.head()"
   ]
  },
  {
   "cell_type": "code",
   "execution_count": 9,
   "metadata": {},
   "outputs": [],
   "source": [
    "from h2o.estimators.random_forest import H2ORandomForestEstimator"
   ]
  },
  {
   "cell_type": "code",
   "execution_count": 11,
   "metadata": {},
   "outputs": [],
   "source": [
    "rf_model=H2ORandomForestEstimator(ntrees=100, max_depth=5, nfolds=10)"
   ]
  },
  {
   "cell_type": "code",
   "execution_count": 15,
   "metadata": {},
   "outputs": [
    {
     "data": {
      "text/html": [
       "<table>\n",
       "<thead>\n",
       "<tr><th style=\"text-align: right;\">  pickup_longitude</th><th style=\"text-align: right;\">  pickup_latitude</th></tr>\n",
       "</thead>\n",
       "<tbody>\n",
       "<tr><td style=\"text-align: right;\">          -73.8443</td><td style=\"text-align: right;\">          40.7213</td></tr>\n",
       "<tr><td style=\"text-align: right;\">          -74.016 </td><td style=\"text-align: right;\">          40.7113</td></tr>\n",
       "<tr><td style=\"text-align: right;\">          -73.9827</td><td style=\"text-align: right;\">          40.7613</td></tr>\n",
       "<tr><td style=\"text-align: right;\">          -73.9871</td><td style=\"text-align: right;\">          40.7331</td></tr>\n",
       "<tr><td style=\"text-align: right;\">          -73.9681</td><td style=\"text-align: right;\">          40.768 </td></tr>\n",
       "<tr><td style=\"text-align: right;\">          -74.001 </td><td style=\"text-align: right;\">          40.7316</td></tr>\n",
       "<tr><td style=\"text-align: right;\">          -73.98  </td><td style=\"text-align: right;\">          40.7517</td></tr>\n",
       "<tr><td style=\"text-align: right;\">          -73.9513</td><td style=\"text-align: right;\">          40.7741</td></tr>\n",
       "<tr><td style=\"text-align: right;\">          -74.0065</td><td style=\"text-align: right;\">          40.7267</td></tr>\n",
       "<tr><td style=\"text-align: right;\">          -73.9807</td><td style=\"text-align: right;\">          40.7339</td></tr>\n",
       "</tbody>\n",
       "</table>"
      ]
     },
     "metadata": {},
     "output_type": "display_data"
    },
    {
     "data": {
      "text/html": [
       "<table>\n",
       "<thead>\n",
       "<tr><th style=\"text-align: right;\">  pickup_longitude</th><th style=\"text-align: right;\">  pickup_latitude</th></tr>\n",
       "</thead>\n",
       "<tbody>\n",
       "<tr><td style=\"text-align: right;\">          -73.8443</td><td style=\"text-align: right;\">          40.7213</td></tr>\n",
       "<tr><td style=\"text-align: right;\">          -74.016 </td><td style=\"text-align: right;\">          40.7113</td></tr>\n",
       "<tr><td style=\"text-align: right;\">          -73.9827</td><td style=\"text-align: right;\">          40.7613</td></tr>\n",
       "<tr><td style=\"text-align: right;\">          -73.9871</td><td style=\"text-align: right;\">          40.7331</td></tr>\n",
       "<tr><td style=\"text-align: right;\">          -73.9681</td><td style=\"text-align: right;\">          40.768 </td></tr>\n",
       "<tr><td style=\"text-align: right;\">          -74.001 </td><td style=\"text-align: right;\">          40.7316</td></tr>\n",
       "<tr><td style=\"text-align: right;\">          -73.98  </td><td style=\"text-align: right;\">          40.7517</td></tr>\n",
       "<tr><td style=\"text-align: right;\">          -73.9513</td><td style=\"text-align: right;\">          40.7741</td></tr>\n",
       "<tr><td style=\"text-align: right;\">          -74.0065</td><td style=\"text-align: right;\">          40.7267</td></tr>\n",
       "<tr><td style=\"text-align: right;\">          -73.9807</td><td style=\"text-align: right;\">          40.7339</td></tr>\n",
       "</tbody>\n",
       "</table>"
      ]
     },
     "metadata": {},
     "output_type": "display_data"
    },
    {
     "ename": "H2OTypeError",
     "evalue": "Argument `x` should be a None | integer | string | list(string | integer) | set(string | integer), got H2OFrame ",
     "output_type": "error",
     "traceback": [
      "\u001b[0;31m---------------------------------------------------------------------------\u001b[0m",
      "\u001b[0;31mH2OTypeError\u001b[0m                              Traceback (most recent call last)",
      "\u001b[0;32m<ipython-input-15-25591a670510>\u001b[0m in \u001b[0;36m<module>\u001b[0;34m\u001b[0m\n\u001b[0;32m----> 1\u001b[0;31m \u001b[0mrf_model\u001b[0m\u001b[0;34m.\u001b[0m\u001b[0mtrain\u001b[0m\u001b[0;34m(\u001b[0m\u001b[0mx\u001b[0m\u001b[0;34m=\u001b[0m\u001b[0mdata\u001b[0m\u001b[0;34m[\u001b[0m\u001b[0;36m3\u001b[0m\u001b[0;34m:\u001b[0m\u001b[0;36m5\u001b[0m\u001b[0;34m]\u001b[0m\u001b[0;34m,\u001b[0m\u001b[0my\u001b[0m\u001b[0;34m=\u001b[0m\u001b[0;34m\"fare_amount\"\u001b[0m\u001b[0;34m,\u001b[0m\u001b[0mtraining_frame\u001b[0m\u001b[0;34m=\u001b[0m\u001b[0mdata\u001b[0m\u001b[0;34m)\u001b[0m\u001b[0;34m\u001b[0m\u001b[0;34m\u001b[0m\u001b[0m\n\u001b[0m",
      "\u001b[0;32m~/anaconda3/lib/python3.7/site-packages/h2o/estimators/estimator_base.py\u001b[0m in \u001b[0;36mtrain\u001b[0;34m(self, x, y, training_frame, offset_column, fold_column, weights_column, validation_frame, max_runtime_secs, ignored_columns, model_id, verbose)\u001b[0m\n\u001b[1;32m    110\u001b[0m         self._train(x=x, y=y, training_frame=training_frame, offset_column=offset_column, fold_column=fold_column,\n\u001b[1;32m    111\u001b[0m                     \u001b[0mweights_column\u001b[0m\u001b[0;34m=\u001b[0m\u001b[0mweights_column\u001b[0m\u001b[0;34m,\u001b[0m \u001b[0mvalidation_frame\u001b[0m\u001b[0;34m=\u001b[0m\u001b[0mvalidation_frame\u001b[0m\u001b[0;34m,\u001b[0m \u001b[0mmax_runtime_secs\u001b[0m\u001b[0;34m=\u001b[0m\u001b[0mmax_runtime_secs\u001b[0m\u001b[0;34m,\u001b[0m\u001b[0;34m\u001b[0m\u001b[0;34m\u001b[0m\u001b[0m\n\u001b[0;32m--> 112\u001b[0;31m                     ignored_columns=ignored_columns, model_id=model_id, verbose=verbose)\n\u001b[0m\u001b[1;32m    113\u001b[0m \u001b[0;34m\u001b[0m\u001b[0m\n\u001b[1;32m    114\u001b[0m \u001b[0;34m\u001b[0m\u001b[0m\n",
      "\u001b[0;32m~/anaconda3/lib/python3.7/site-packages/h2o/estimators/estimator_base.py\u001b[0m in \u001b[0;36m_train\u001b[0;34m(self, x, y, training_frame, offset_column, fold_column, weights_column, validation_frame, max_runtime_secs, ignored_columns, model_id, verbose, extend_parms_fn)\u001b[0m\n\u001b[1;32m    121\u001b[0m         \u001b[0mvalidation_frame\u001b[0m \u001b[0;34m=\u001b[0m \u001b[0mH2OFrame\u001b[0m\u001b[0;34m.\u001b[0m\u001b[0m_validate\u001b[0m\u001b[0;34m(\u001b[0m\u001b[0mvalidation_frame\u001b[0m\u001b[0;34m,\u001b[0m \u001b[0;34m'validation_frame'\u001b[0m\u001b[0;34m)\u001b[0m\u001b[0;34m\u001b[0m\u001b[0;34m\u001b[0m\u001b[0m\n\u001b[1;32m    122\u001b[0m         \u001b[0massert_is_type\u001b[0m\u001b[0;34m(\u001b[0m\u001b[0my\u001b[0m\u001b[0;34m,\u001b[0m \u001b[0;32mNone\u001b[0m\u001b[0;34m,\u001b[0m \u001b[0mint\u001b[0m\u001b[0;34m,\u001b[0m \u001b[0mstr\u001b[0m\u001b[0;34m)\u001b[0m\u001b[0;34m\u001b[0m\u001b[0;34m\u001b[0m\u001b[0m\n\u001b[0;32m--> 123\u001b[0;31m         \u001b[0massert_is_type\u001b[0m\u001b[0;34m(\u001b[0m\u001b[0mx\u001b[0m\u001b[0;34m,\u001b[0m \u001b[0;32mNone\u001b[0m\u001b[0;34m,\u001b[0m \u001b[0mint\u001b[0m\u001b[0;34m,\u001b[0m \u001b[0mstr\u001b[0m\u001b[0;34m,\u001b[0m \u001b[0;34m[\u001b[0m\u001b[0mstr\u001b[0m\u001b[0;34m,\u001b[0m \u001b[0mint\u001b[0m\u001b[0;34m]\u001b[0m\u001b[0;34m,\u001b[0m \u001b[0;34m{\u001b[0m\u001b[0mstr\u001b[0m\u001b[0;34m,\u001b[0m \u001b[0mint\u001b[0m\u001b[0;34m}\u001b[0m\u001b[0;34m)\u001b[0m\u001b[0;34m\u001b[0m\u001b[0;34m\u001b[0m\u001b[0m\n\u001b[0m\u001b[1;32m    124\u001b[0m         \u001b[0massert_is_type\u001b[0m\u001b[0;34m(\u001b[0m\u001b[0mignored_columns\u001b[0m\u001b[0;34m,\u001b[0m \u001b[0;32mNone\u001b[0m\u001b[0;34m,\u001b[0m \u001b[0;34m[\u001b[0m\u001b[0mstr\u001b[0m\u001b[0;34m,\u001b[0m \u001b[0mint\u001b[0m\u001b[0;34m]\u001b[0m\u001b[0;34m,\u001b[0m \u001b[0;34m{\u001b[0m\u001b[0mstr\u001b[0m\u001b[0;34m,\u001b[0m \u001b[0mint\u001b[0m\u001b[0;34m}\u001b[0m\u001b[0;34m)\u001b[0m\u001b[0;34m\u001b[0m\u001b[0;34m\u001b[0m\u001b[0m\n\u001b[1;32m    125\u001b[0m         \u001b[0massert_is_type\u001b[0m\u001b[0;34m(\u001b[0m\u001b[0moffset_column\u001b[0m\u001b[0;34m,\u001b[0m \u001b[0;32mNone\u001b[0m\u001b[0;34m,\u001b[0m \u001b[0mint\u001b[0m\u001b[0;34m,\u001b[0m \u001b[0mstr\u001b[0m\u001b[0;34m)\u001b[0m\u001b[0;34m\u001b[0m\u001b[0;34m\u001b[0m\u001b[0m\n",
      "\u001b[0;32m~/anaconda3/lib/python3.7/site-packages/h2o/utils/typechecks.py\u001b[0m in \u001b[0;36massert_is_type\u001b[0;34m(var, *types, **kwargs)\u001b[0m\n\u001b[1;32m    455\u001b[0m     \u001b[0mvtn\u001b[0m \u001b[0;34m=\u001b[0m \u001b[0m_get_type_name\u001b[0m\u001b[0;34m(\u001b[0m\u001b[0mtype\u001b[0m\u001b[0;34m(\u001b[0m\u001b[0mvar\u001b[0m\u001b[0;34m)\u001b[0m\u001b[0;34m)\u001b[0m\u001b[0;34m\u001b[0m\u001b[0;34m\u001b[0m\u001b[0m\n\u001b[1;32m    456\u001b[0m     raise H2OTypeError(var_name=vname, var_value=var, var_type_name=vtn, exp_type_name=etn, message=message,\n\u001b[0;32m--> 457\u001b[0;31m                        skip_frames=skip_frames)\n\u001b[0m\u001b[1;32m    458\u001b[0m \u001b[0;34m\u001b[0m\u001b[0m\n\u001b[1;32m    459\u001b[0m \u001b[0;34m\u001b[0m\u001b[0m\n",
      "\u001b[0;31mH2OTypeError\u001b[0m: Argument `x` should be a None | integer | string | list(string | integer) | set(string | integer), got H2OFrame "
     ]
    },
    {
     "data": {
      "text/html": [
       "<table>\n",
       "<thead>\n",
       "<tr><th style=\"text-align: right;\">  pickup_longitude</th><th style=\"text-align: right;\">  pickup_latitude</th></tr>\n",
       "</thead>\n",
       "<tbody>\n",
       "<tr><td style=\"text-align: right;\">          -73.8443</td><td style=\"text-align: right;\">          40.7213</td></tr>\n",
       "<tr><td style=\"text-align: right;\">          -74.016 </td><td style=\"text-align: right;\">          40.7113</td></tr>\n",
       "<tr><td style=\"text-align: right;\">          -73.9827</td><td style=\"text-align: right;\">          40.7613</td></tr>\n",
       "<tr><td style=\"text-align: right;\">          -73.9871</td><td style=\"text-align: right;\">          40.7331</td></tr>\n",
       "<tr><td style=\"text-align: right;\">          -73.9681</td><td style=\"text-align: right;\">          40.768 </td></tr>\n",
       "<tr><td style=\"text-align: right;\">          -74.001 </td><td style=\"text-align: right;\">          40.7316</td></tr>\n",
       "<tr><td style=\"text-align: right;\">          -73.98  </td><td style=\"text-align: right;\">          40.7517</td></tr>\n",
       "<tr><td style=\"text-align: right;\">          -73.9513</td><td style=\"text-align: right;\">          40.7741</td></tr>\n",
       "<tr><td style=\"text-align: right;\">          -74.0065</td><td style=\"text-align: right;\">          40.7267</td></tr>\n",
       "<tr><td style=\"text-align: right;\">          -73.9807</td><td style=\"text-align: right;\">          40.7339</td></tr>\n",
       "</tbody>\n",
       "</table>"
      ]
     },
     "metadata": {},
     "output_type": "display_data"
    }
   ],
   "source": [
    "rf_model.train(x=data[3:5],y=\"fare_amount\",training_frame=data)"
   ]
  },
  {
   "cell_type": "code",
   "execution_count": null,
   "metadata": {},
   "outputs": [],
   "source": []
  }
 ],
 "metadata": {
  "kernelspec": {
   "display_name": "Python 3 (ipykernel)",
   "language": "python",
   "name": "python3"
  },
  "language_info": {
   "codemirror_mode": {
    "name": "ipython",
    "version": 3
   },
   "file_extension": ".py",
   "mimetype": "text/x-python",
   "name": "python",
   "nbconvert_exporter": "python",
   "pygments_lexer": "ipython3",
   "version": "3.9.10"
  }
 },
 "nbformat": 4,
 "nbformat_minor": 2
}
